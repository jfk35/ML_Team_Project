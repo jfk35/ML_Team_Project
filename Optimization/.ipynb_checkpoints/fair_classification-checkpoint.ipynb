{
 "cells": [
  {
   "cell_type": "code",
   "execution_count": 10,
   "metadata": {},
   "outputs": [],
   "source": [
    "using JuMP, Gurobi, Random, PyPlot, Dates, CSV"
   ]
  },
  {
   "cell_type": "code",
   "execution_count": 2,
   "metadata": {},
   "outputs": [
    {
     "name": "stdout",
     "output_type": "stream",
     "text": [
      "Academic license - for non-commercial use only\r\n"
     ]
    },
    {
     "data": {
      "text/plain": [
       "Gurobi.Env(Ptr{Nothing} @0x0000000041f81020)"
      ]
     },
     "execution_count": 2,
     "metadata": {},
     "output_type": "execute_result"
    }
   ],
   "source": [
    "GUROBI_ENV = Gurobi.Env()"
   ]
  },
  {
   "cell_type": "markdown",
   "metadata": {},
   "source": [
    "# MIO Implementation"
   ]
  },
  {
   "cell_type": "code",
   "execution_count": 3,
   "metadata": {},
   "outputs": [
    {
     "data": {
      "text/plain": [
       "get_group_indicator_matrix (generic function with 1 method)"
      ]
     },
     "execution_count": 3,
     "metadata": {},
     "output_type": "execute_result"
    }
   ],
   "source": [
    "function get_group_indicator_matrix(\n",
    "    group_assignments::Array{Int64, 1}\n",
    ")::Array{Int64, 2}\n",
    "    n = size(group_assignments, 1)\n",
    "    p = size(unique(group_assignments), 1)\n",
    "    A = zeros(n, p)\n",
    "    for i=1:n\n",
    "        for k=1:p\n",
    "            A[i,k] = Int(group_assignments[i] .== k)\n",
    "        end\n",
    "    end\n",
    "    return A\n",
    "end"
   ]
  },
  {
   "cell_type": "code",
   "execution_count": 4,
   "metadata": {},
   "outputs": [
    {
     "data": {
      "text/plain": [
       "svm_classifier (generic function with 1 method)"
      ]
     },
     "execution_count": 4,
     "metadata": {},
     "output_type": "execute_result"
    }
   ],
   "source": [
    "function svm_classifier(\n",
    "    X::Array{Float64, 2}, \n",
    "    y::Array{Int64, 1};\n",
    "    Γ::Float64=0.01,\n",
    "    return_objective_value::Bool = false,\n",
    "    solver_time_limit::Int64=60  \n",
    ")::Union{Tuple{Array{Float64, 1}, Float64}, Float64}\n",
    "    \n",
    "    # Initialize model\n",
    "    model = Model(solver=GurobiSolver(OutputFlag=0, TimeLimit=solver_time_limit, GUROBI_ENV))\n",
    "    \n",
    "    # Define variables\n",
    "    n, d = size(X)\n",
    "    @variable(model, w[1:d])\n",
    "    @variable(model, b)\n",
    "    @variable(model, ξ[1:n] >= 0)\n",
    "    @variable(model, t)\n",
    "\n",
    "    # Set constraints\n",
    "    @constraint(model, y .* (X*w .- b) .>= 1 - ξ)\n",
    "    @constraint(model, t == (ones(n)'*ξ)/n  + Γ*(w'*w + b*b))\n",
    "    \n",
    "    # Set objective         \n",
    "    @objective(model, Min, t)\n",
    "    \n",
    "    # Solve and return optimal objective value or regression coefficients\n",
    "    solve(model)\n",
    "    if return_objective_value\n",
    "        return getobjectivevalue(model)\n",
    "    else\n",
    "        return getvalue(w), getvalue(b)\n",
    "    end\n",
    "end"
   ]
  },
  {
   "cell_type": "code",
   "execution_count": 5,
   "metadata": {},
   "outputs": [
    {
     "data": {
      "text/plain": [
       "fair_svm_classifier (generic function with 1 method)"
      ]
     },
     "execution_count": 5,
     "metadata": {},
     "output_type": "execute_result"
    }
   ],
   "source": [
    "function fair_svm_classifier(\n",
    "    X::Array{Float64, 2}, \n",
    "    y::Array{Int64, 1},\n",
    "    group_assignments::Array{Int64, 1};\n",
    "    Γ::Float64=0.01, # regularization penalty\n",
    "    δ::Float64=0.1, # max percent optimality decrease\n",
    "    λ::Float64=1.0, # FNR weight\n",
    "    μ::Float64=1.0, # PR weight\n",
    "    return_objective_value::Bool = false,\n",
    "    solver_time_limit::Int64=60,\n",
    ")::Union{Tuple{Array{Float64, 1}, Float64}, Float64}\n",
    "    \n",
    "    # Process inputs\n",
    "    A = get_group_indicator_matrix(group_assignments) \n",
    "    p = size(A, 2) # number of groups\n",
    "    q = Int(p*(p - 1)/2) # number of pairs of groups\n",
    "    n, d = size(X) # number of data points and number of features\n",
    "    group_size = [sum(A[:,k]) for k=1:p]\n",
    "    positive_group_size = [sum(A[i,k] for i=1:n if (y[i] == 1)) for k=1:p]\n",
    "    negative_group_size = [sum(A[i,k] for i=1:n if (y[i] == -1)) for k=1:p]\n",
    "    min_loss = svm_classifier(X, y; Γ=Γ, return_objective_value=true) # Min loss of problem w/o fairness constraints\n",
    "    \n",
    "    # Initialize model\n",
    "    model = Model(solver=GurobiSolver(OutputFlag=0, TimeLimit=solver_time_limit, GUROBI_ENV))\n",
    "\n",
    "    # Define variables\n",
    "    @variable(model, w[1:d])\n",
    "    @variable(model, b)\n",
    "    @variable(model, ξ[1:n] >= 0)\n",
    "    @variable(model, positive_indicator[1:n], Bin)\n",
    "    @variable(model, error_indicator[1:n], Bin)                                        \n",
    "    @variable(model, FPR[1:p] >= 0)\n",
    "    @variable(model, FNR[1:p] >= 0)\n",
    "    @variable(model, PR[1:p] >= 0)                                      \n",
    "    @variable(model, Δ_FPR[1:q] >= 0)\n",
    "    @variable(model, Δ_FNR[1:q] >= 0)\n",
    "    @variable(model, Δ_PR[1:q] >= 0)                                        \n",
    "    @variable(model, t >= 0)\n",
    "                                \n",
    "    # Set SVM performance constraints\n",
    "    @constraint(model, y.*(X*w .- b) .>= 1 - ξ)\n",
    "    @constraint(model, (ones(n)'*ξ)/n + Γ*(w'*w + b*b) <= (1 + δ)*min_loss)                                        \n",
    "    \n",
    "    # Set constraints for positive prediction and error indicator variables                                       \n",
    "    M = 1e6\n",
    "    @constraint(model, X*w .- b .<= M*positive_indicator)\n",
    "    @constraint(model, X*w .- b .>= -M*(1 .- positive_indicator))   \n",
    "    @constraint(model, y.*(X*w .- b) .>= -M*error_indicator) \n",
    "    @constraint(model, y.*(X*w .- b) .<= M*(1 .- error_indicator))                                   \n",
    "    \n",
    "    # Set constraints for FPR, FNR and PR calculation                                  \n",
    "    @constraint(model, FPR .== (A'*(error_indicator .* (y .== -1))) ./ negative_group_size)\n",
    "    @constraint(model, FNR .== (A'*(error_indicator .* (y .== 1))) ./ positive_group_size)                                      \n",
    "    @constraint(model, PR .== (A'*positive_indicator) ./ group_size)\n",
    "    \n",
    "    # Set fairness constraints\n",
    "    @constraint(model, [k=1:p, l=k+1:p, m=Int(l-k+(p-k/2)*(k-1))], Δ_FPR[m] >= FPR[k] - FPR[l])\n",
    "    @constraint(model, [k=1:p, l=k+1:p, m=Int(l-k+(p-k/2)*(k-1))], Δ_FPR[m] >= FPR[l] - FPR[k])\n",
    "    @constraint(model, [k=1:p, l=k+1:p, m=Int(l-k+(p-k/2)*(k-1))], Δ_FNR[m] >= FNR[k] - FNR[l])\n",
    "    @constraint(model, [k=1:p, l=k+1:p, m=Int(l-k+(p-k/2)*(k-1))], Δ_FNR[m] >= FNR[l] - FNR[k])\n",
    "    @constraint(model, [k=1:p, l=k+1:p, m=Int(l-k+(p-k/2)*(k-1))], Δ_PR[m] >= PR[k] - PR[l])\n",
    "    @constraint(model, [k=1:p, l=k+1:p, m=Int(l-k+(p-k/2)*(k-1))], Δ_PR[m] >= PR[l] - PR[k])\n",
    "    @constraint(model, t .== ones(q)'*(Δ_FPR .+ λ*Δ_FNR .+ μ*Δ_PR))\n",
    "    \n",
    "    # Set objective\n",
    "    @objective(model, Min, t)\n",
    "    \n",
    "    # Solve and logger if desired\n",
    "    solve(model)\n",
    "         \n",
    "    # Return optimal objective value or regression coefficients\n",
    "    if return_objective_value\n",
    "        return getobjectivevalue(model)\n",
    "    else\n",
    "        return getvalue(w), getvalue(b)\n",
    "    end\n",
    "end"
   ]
  },
  {
   "cell_type": "markdown",
   "metadata": {},
   "source": [
    "# Fairness score calculation"
   ]
  },
  {
   "cell_type": "code",
   "execution_count": 6,
   "metadata": {},
   "outputs": [
    {
     "data": {
      "text/plain": [
       "svm_fairness_summary (generic function with 1 method)"
      ]
     },
     "execution_count": 6,
     "metadata": {},
     "output_type": "execute_result"
    }
   ],
   "source": [
    "function calculate_false_positive_rate(\n",
    "    y::Array{Int64, 1},\n",
    "    y_hat::Array{Int64, 1}\n",
    ")::Float64\n",
    "    return sum(y_hat[y .== -1] .== 1) / sum(y .== -1)\n",
    "end\n",
    "\n",
    "\n",
    "function calculate_false_negative_rate(\n",
    "    y::Array{Int64, 1},\n",
    "    y_hat::Array{Int64, 1}\n",
    ")::Float64\n",
    "    return sum(y_hat[y .== 1] .== -1) / sum(y .== 1)\n",
    "end\n",
    "\n",
    "\n",
    "function calculate_positive_rate(\n",
    "    y::Array{Int64, 1},\n",
    "    y_hat::Array{Int64, 1}\n",
    ")::Float64\n",
    "    return sum(y_hat .== 1) / size(y_hat, 1)\n",
    "end\n",
    "\n",
    "\n",
    "function calculate_fairness_score_for_metric(\n",
    "    y::Array{Int64, 1},\n",
    "    y_hat::Array{Int64, 1},\n",
    "    group_assignments::Array{Int64, 1},\n",
    "    metric::Function\n",
    ")::Float64\n",
    "    group_metrics = [metric(y[group_assignments .== k], y_hat[group_assignments .== k]) for k=1:p]\n",
    "    return sum([sum([abs(group_metrics[k] - group_metrics[l]) for l=k+1:p]) for k=1:p]) / (p*(p - 1)/2)\n",
    "end\n",
    "\n",
    "\n",
    "function calculate_fairness_scores(\n",
    "    y::Array{Int64, 1}, \n",
    "    y_hat::Array{Int64, 1},\n",
    "    group_assignments::Array{Int64, 1}\n",
    ")::Tuple{Float64, Float64, Float64}\n",
    "    Δ_FPR = calculate_fairness_score_for_metric(y, y_hat, group_assignments, calculate_false_positive_rate)\n",
    "    Δ_FNR = calculate_fairness_score_for_metric(y, y_hat, group_assignments, calculate_false_negative_rate)\n",
    "    Δ_PR = calculate_fairness_score_for_metric(y, y_hat, group_assignments, calculate_positive_rate)\n",
    "    return Δ_FPR, Δ_FNR, Δ_PR\n",
    "end\n",
    "\n",
    "\n",
    "function svm_predict(\n",
    "    X::Array{Float64, 2}, \n",
    "    w::Array{Float64, 1}, \n",
    "    b::Float64\n",
    ")::Array{Int64, 1}\n",
    "    return 2*Int.((X*w .- b) .> 0) .- 1 \n",
    "end\n",
    "\n",
    "\n",
    "function svm_fairness_summary(\n",
    "    X::Array{Float64, 2},\n",
    "    y::Array{Int64, 1},\n",
    "    group_assignments::Array{Int64, 1},\n",
    "    w::Array{Float64, 1}, \n",
    "    b::Float64\n",
    ")\n",
    "    y_hat = svm_predict(X, w, b)\n",
    "    Δ_FPR, Δ_FNR, Δ_PR = calculate_fairness_scores(y, y_hat, group_assignments)\n",
    "    println(\"False positive rate discrepency: \", round(Δ_FPR; digits=3))\n",
    "    println(\"False negative rate discrepency: \", round(Δ_FNR; digits=3))\n",
    "    println(\"Positive rate discrepency: \", round(Δ_PR; digits=3))\n",
    "end"
   ]
  },
  {
   "cell_type": "markdown",
   "metadata": {},
   "source": [
    "# Random data generation"
   ]
  },
  {
   "cell_type": "code",
   "execution_count": 7,
   "metadata": {},
   "outputs": [
    {
     "data": {
      "text/plain": [
       "generate_random_classification_data (generic function with 1 method)"
      ]
     },
     "execution_count": 7,
     "metadata": {},
     "output_type": "execute_result"
    }
   ],
   "source": [
    "function generate_random_classification_data(\n",
    "    n::Int64, \n",
    "    d::Int64, \n",
    "    p::Int64; \n",
    "    σ=1, \n",
    "    seed=42\n",
    ")::Tuple{Array{\n",
    "    Float64, 2}, Array{Int64, 1}, Array{Int64, 1}}\n",
    "    rng = MersenneTwister(seed)\n",
    "    group_assignments = rand(rng, 1:p, n)\n",
    "    y = rand(rng, [-1, 1], n)\n",
    "    X = σ*randn(rng, n, d) .+ y\n",
    "    return X, y, group_assignments\n",
    "end"
   ]
  },
  {
   "cell_type": "markdown",
   "metadata": {},
   "source": [
    "# Toy example"
   ]
  },
  {
   "cell_type": "code",
   "execution_count": 16,
   "metadata": {},
   "outputs": [],
   "source": [
    "# Generate low dimensional random data\n",
    "n = 100\n",
    "d = 2\n",
    "p = 3\n",
    "X, y, group_assignments = generate_random_classification_data(n, d, p, σ=2);"
   ]
  },
  {
   "cell_type": "code",
   "execution_count": 17,
   "metadata": {},
   "outputs": [],
   "source": [
    "w, b = svm_classifier(X, y)\n",
    "w_fair, b_fair = fair_svm_classifier(X, y, group_assignments);"
   ]
  },
  {
   "cell_type": "code",
   "execution_count": 21,
   "metadata": {},
   "outputs": [
    {
     "data": {
      "image/png": "[encoded data removed]",
      "text/plain": [
       "Figure(PyObject <Figure size 640x480 with 1 Axes>)"
      ]
     },
     "metadata": {},
     "output_type": "display_data"
    }
   ],
   "source": [
    "markers = [\"x\", \"o\", \"v\"]\n",
    "colors = [\"blue\", \"orange\", \"red\"]\n",
    "for k=1:p\n",
    "    mask_positive = (y .== 1) .& (group_assignments .== k)\n",
    "    mask_negative = (y .== -1) .& (group_assignments .== k)\n",
    "    plt.scatter(X[mask_positive, 1], X[mask_positive, 2], label=string(\"y=1,  \", \"k=\", k), marker=markers[k],\n",
    "        color=colors[1])\n",
    "    plt.scatter(X[mask_negative, 1], X[mask_negative, 2], label=string(\"y=-1, \", \"k=\", k), marker=markers[k],\n",
    "        color=colors[2])\n",
    "end\n",
    "\n",
    "X1_grid = minimum(X[:,1]):0.1:maximum(X[:,1])\n",
    "X2_grid = minimum(X[:,2]):0.1:maximum(X[:,2])\n",
    "plt.plot(X1_grid, (b .- w[1].*X1_grid)/w[2], color=\"k\", linestyle=\"--\", label=\"Generic SVM\")\n",
    "plt.plot(X1_grid, (b_fair .- w_fair[1].*X1_grid)/w_fair[2], color=\"g\", linestyle=\"--\", label=\"Fair SVM\")\n",
    "plt.legend();"
   ]
  },
  {
   "cell_type": "code",
   "execution_count": 19,
   "metadata": {},
   "outputs": [
    {
     "name": "stdout",
     "output_type": "stream",
     "text": [
      "False positive rate discrepency: 0.176\n",
      "False negative rate discrepency: 0.101\n",
      "Positive rate discrepency: 0.074\n"
     ]
    }
   ],
   "source": [
    "svm_fairness_summary(X, y, group_assignments, w, b)"
   ]
  },
  {
   "cell_type": "code",
   "execution_count": 20,
   "metadata": {},
   "outputs": [
    {
     "name": "stdout",
     "output_type": "stream",
     "text": [
      "False positive rate discrepency: 0.128\n",
      "False negative rate discrepency: 0.074\n",
      "Positive rate discrepency: 0.054\n"
     ]
    }
   ],
   "source": [
    "svm_fairness_summary(X, y, group_assignments, w_fair, b_fair)"
   ]
  },
  {
   "cell_type": "code",
   "execution_count": 16,
   "metadata": {},
   "outputs": [
    {
     "data": {
      "text/plain": [
       "load_classification_data (generic function with 1 method)"
      ]
     },
     "execution_count": 16,
     "metadata": {},
     "output_type": "execute_result"
    }
   ],
   "source": [
    "function load_classification_data(\n",
    "        )::Tuple{Array{\n",
    "    Float64, 2}, Array{Float64, 1}, Array{Int64, 1}}\n",
    "    dataset = CSV.read(\"../fairClassificationData.csv\", missingstring=\"NA\")\n",
    "    X = dataset[:,[2:7;9:21]]\n",
    "    y = dataset[:,8]\n",
    "    groupAssignments = dataset[:,22]\n",
    "    lnrknnnew = IAI.OptKNNImputationLearner()\n",
    "    imputedX = IAI.fit_transform!(lnrknnnew, X)\n",
    "    return imputedX, y, groupAssignments\n",
    "end"
   ]
  },
  {
   "cell_type": "code",
   "execution_count": 24,
   "metadata": {},
   "outputs": [
    {
     "data": {
      "text/html": [
       "<table class=\"data-frame\"><thead><tr><th></th><th>juv_fel_count</th><th>juv_misd_count</th><th>juv_other_count</th><th>priors_count</th><th>days_b_screening_arrest</th></tr><tr><th></th><th>Float64⍰</th><th>Float64⍰</th><th>Float64⍰</th><th>Float64⍰</th><th>Float64⍰</th></tr></thead><tbody><p>11,038 rows × 19 columns (omitted printing of 14 columns)</p><tr><th>1</th><td>0.0</td><td>0.0</td><td>0.0</td><td>0.0</td><td>-1.0</td></tr><tr><th>2</th><td>0.0</td><td>0.0</td><td>0.0</td><td>0.0</td><td>-1.0</td></tr><tr><th>3</th><td>0.0</td><td>0.0</td><td>1.0</td><td>4.0</td><td>-1.0</td></tr><tr><th>4</th><td>0.0</td><td>1.0</td><td>0.0</td><td>1.0</td><td>-1.0</td></tr><tr><th>5</th><td>0.0</td><td>0.0</td><td>0.0</td><td>2.0</td><td>-3.85146</td></tr><tr><th>6</th><td>0.0</td><td>0.0</td><td>0.0</td><td>0.0</td><td>0.0</td></tr><tr><th>7</th><td>0.0</td><td>0.0</td><td>0.0</td><td>14.0</td><td>-1.0</td></tr><tr><th>8</th><td>0.0</td><td>0.0</td><td>0.0</td><td>3.0</td><td>-1.0</td></tr><tr><th>9</th><td>0.0</td><td>0.0</td><td>0.0</td><td>0.0</td><td>-1.0</td></tr><tr><th>10</th><td>0.0</td><td>0.0</td><td>1.0</td><td>0.0</td><td>-1.0</td></tr><tr><th>11</th><td>0.0</td><td>0.0</td><td>0.0</td><td>0.0</td><td>-1.0</td></tr><tr><th>12</th><td>0.0</td><td>0.0</td><td>0.0</td><td>1.0</td><td>428.0</td></tr><tr><th>13</th><td>0.0</td><td>0.0</td><td>0.0</td><td>0.0</td><td>-1.0</td></tr><tr><th>14</th><td>0.0</td><td>0.0</td><td>0.0</td><td>3.0</td><td>0.0</td></tr><tr><th>15</th><td>0.0</td><td>0.0</td><td>0.0</td><td>0.0</td><td>0.0</td></tr><tr><th>16</th><td>0.0</td><td>0.0</td><td>0.0</td><td>0.0</td><td>0.0</td></tr><tr><th>17</th><td>0.0</td><td>0.0</td><td>0.0</td><td>0.0</td><td>-1.0</td></tr><tr><th>18</th><td>0.0</td><td>0.0</td><td>0.0</td><td>1.0</td><td>-20.0</td></tr><tr><th>19</th><td>0.0</td><td>0.0</td><td>0.0</td><td>7.0</td><td>22.0</td></tr><tr><th>20</th><td>0.0</td><td>0.0</td><td>0.0</td><td>0.0</td><td>0.0</td></tr><tr><th>21</th><td>0.0</td><td>0.0</td><td>0.0</td><td>3.0</td><td>-1.0</td></tr><tr><th>22</th><td>0.0</td><td>0.0</td><td>0.0</td><td>6.0</td><td>-1.0</td></tr><tr><th>23</th><td>0.0</td><td>0.0</td><td>0.0</td><td>5.0</td><td>-1.0</td></tr><tr><th>24</th><td>0.0</td><td>0.0</td><td>0.0</td><td>13.0</td><td>-1.0</td></tr><tr><th>25</th><td>0.0</td><td>0.0</td><td>0.0</td><td>1.0</td><td>-1.0</td></tr><tr><th>26</th><td>0.0</td><td>0.0</td><td>0.0</td><td>0.0</td><td>0.0</td></tr><tr><th>27</th><td>0.0</td><td>0.0</td><td>0.0</td><td>0.0</td><td>-2.0</td></tr><tr><th>28</th><td>0.0</td><td>0.0</td><td>0.0</td><td>2.0</td><td>0.0</td></tr><tr><th>29</th><td>0.0</td><td>0.0</td><td>0.0</td><td>1.0</td><td>0.0</td></tr><tr><th>30</th><td>0.0</td><td>0.0</td><td>0.0</td><td>1.0</td><td>-132.0</td></tr><tr><th>&vellip;</th><td>&vellip;</td><td>&vellip;</td><td>&vellip;</td><td>&vellip;</td><td>&vellip;</td></tr></tbody></table>"
      ],
      "text/latex": [
       "\\begin{tabular}{r|cccccc}\n",
       "\t& juv\\_fel\\_count & juv\\_misd\\_count & juv\\_other\\_count & priors\\_count & days\\_b\\_screening\\_arrest & \\\\\n",
       "\t\\hline\n",
       "\t& Float64⍰ & Float64⍰ & Float64⍰ & Float64⍰ & Float64⍰ & \\\\\n",
       "\t\\hline\n",
       "\t1 & 0.0 & 0.0 & 0.0 & 0.0 & -1.0 & $\\dots$ \\\\\n",
       "\t2 & 0.0 & 0.0 & 0.0 & 0.0 & -1.0 & $\\dots$ \\\\\n",
       "\t3 & 0.0 & 0.0 & 1.0 & 4.0 & -1.0 & $\\dots$ \\\\\n",
       "\t4 & 0.0 & 1.0 & 0.0 & 1.0 & -1.0 & $\\dots$ \\\\\n",
       "\t5 & 0.0 & 0.0 & 0.0 & 2.0 & -3.85146 & $\\dots$ \\\\\n",
       "\t6 & 0.0 & 0.0 & 0.0 & 0.0 & 0.0 & $\\dots$ \\\\\n",
       "\t7 & 0.0 & 0.0 & 0.0 & 14.0 & -1.0 & $\\dots$ \\\\\n",
       "\t8 & 0.0 & 0.0 & 0.0 & 3.0 & -1.0 & $\\dots$ \\\\\n",
       "\t9 & 0.0 & 0.0 & 0.0 & 0.0 & -1.0 & $\\dots$ \\\\\n",
       "\t10 & 0.0 & 0.0 & 1.0 & 0.0 & -1.0 & $\\dots$ \\\\\n",
       "\t11 & 0.0 & 0.0 & 0.0 & 0.0 & -1.0 & $\\dots$ \\\\\n",
       "\t12 & 0.0 & 0.0 & 0.0 & 1.0 & 428.0 & $\\dots$ \\\\\n",
       "\t13 & 0.0 & 0.0 & 0.0 & 0.0 & -1.0 & $\\dots$ \\\\\n",
       "\t14 & 0.0 & 0.0 & 0.0 & 3.0 & 0.0 & $\\dots$ \\\\\n",
       "\t15 & 0.0 & 0.0 & 0.0 & 0.0 & 0.0 & $\\dots$ \\\\\n",
       "\t16 & 0.0 & 0.0 & 0.0 & 0.0 & 0.0 & $\\dots$ \\\\\n",
       "\t17 & 0.0 & 0.0 & 0.0 & 0.0 & -1.0 & $\\dots$ \\\\\n",
       "\t18 & 0.0 & 0.0 & 0.0 & 1.0 & -20.0 & $\\dots$ \\\\\n",
       "\t19 & 0.0 & 0.0 & 0.0 & 7.0 & 22.0 & $\\dots$ \\\\\n",
       "\t20 & 0.0 & 0.0 & 0.0 & 0.0 & 0.0 & $\\dots$ \\\\\n",
       "\t21 & 0.0 & 0.0 & 0.0 & 3.0 & -1.0 & $\\dots$ \\\\\n",
       "\t22 & 0.0 & 0.0 & 0.0 & 6.0 & -1.0 & $\\dots$ \\\\\n",
       "\t23 & 0.0 & 0.0 & 0.0 & 5.0 & -1.0 & $\\dots$ \\\\\n",
       "\t24 & 0.0 & 0.0 & 0.0 & 13.0 & -1.0 & $\\dots$ \\\\\n",
       "\t25 & 0.0 & 0.0 & 0.0 & 1.0 & -1.0 & $\\dots$ \\\\\n",
       "\t26 & 0.0 & 0.0 & 0.0 & 0.0 & 0.0 & $\\dots$ \\\\\n",
       "\t27 & 0.0 & 0.0 & 0.0 & 0.0 & -2.0 & $\\dots$ \\\\\n",
       "\t28 & 0.0 & 0.0 & 0.0 & 2.0 & 0.0 & $\\dots$ \\\\\n",
       "\t29 & 0.0 & 0.0 & 0.0 & 1.0 & 0.0 & $\\dots$ \\\\\n",
       "\t30 & 0.0 & 0.0 & 0.0 & 1.0 & -132.0 & $\\dots$ \\\\\n",
       "\t$\\dots$ & $\\dots$ & $\\dots$ & $\\dots$ & $\\dots$ & $\\dots$ &  \\\\\n",
       "\\end{tabular}\n"
      ],
      "text/plain": [
       "11038×19 DataFrames.DataFrame. Omitted printing of 15 columns\n",
       "│ Row   │ juv_fel_count │ juv_misd_count │ juv_other_count │ priors_count │\n",
       "│       │ \u001b[90mFloat64⍰\u001b[39m      │ \u001b[90mFloat64⍰\u001b[39m       │ \u001b[90mFloat64⍰\u001b[39m        │ \u001b[90mFloat64⍰\u001b[39m     │\n",
       "├───────┼───────────────┼────────────────┼─────────────────┼──────────────┤\n",
       "│ 1     │ 0.0           │ 0.0            │ 0.0             │ 0.0          │\n",
       "│ 2     │ 0.0           │ 0.0            │ 0.0             │ 0.0          │\n",
       "│ 3     │ 0.0           │ 0.0            │ 1.0             │ 4.0          │\n",
       "│ 4     │ 0.0           │ 1.0            │ 0.0             │ 1.0          │\n",
       "│ 5     │ 0.0           │ 0.0            │ 0.0             │ 2.0          │\n",
       "│ 6     │ 0.0           │ 0.0            │ 0.0             │ 0.0          │\n",
       "│ 7     │ 0.0           │ 0.0            │ 0.0             │ 14.0         │\n",
       "│ 8     │ 0.0           │ 0.0            │ 0.0             │ 3.0          │\n",
       "│ 9     │ 0.0           │ 0.0            │ 0.0             │ 0.0          │\n",
       "│ 10    │ 0.0           │ 0.0            │ 1.0             │ 0.0          │\n",
       "⋮\n",
       "│ 11028 │ 0.0           │ 0.0            │ 0.0             │ 1.0          │\n",
       "│ 11029 │ 0.0           │ 0.0            │ 0.0             │ 0.0          │\n",
       "│ 11030 │ 0.0           │ 0.0            │ 0.0             │ 0.0          │\n",
       "│ 11031 │ 0.0           │ 0.0            │ 0.0             │ 0.0          │\n",
       "│ 11032 │ 0.0           │ 0.0            │ 0.0             │ 0.0          │\n",
       "│ 11033 │ 0.0           │ 0.0            │ 0.0             │ 5.0          │\n",
       "│ 11034 │ 0.0           │ 0.0            │ 0.0             │ 1.0          │\n",
       "│ 11035 │ 0.0           │ 3.0            │ 5.0             │ 3.0          │\n",
       "│ 11036 │ 0.0           │ 0.0            │ 0.0             │ 0.0          │\n",
       "│ 11037 │ 0.0           │ 0.0            │ 0.0             │ 2.0          │\n",
       "│ 11038 │ 0.0           │ 0.0            │ 0.0             │ 0.0          │"
      ]
     },
     "execution_count": 24,
     "metadata": {},
     "output_type": "execute_result"
    }
   ],
   "source": []
  },
  {
   "cell_type": "code",
   "execution_count": 17,
   "metadata": {},
   "outputs": [
    {
     "ename": "MethodError",
     "evalue": "MethodError: no method matching iterate(::DataFrames.DataFrame)\nClosest candidates are:\n  iterate(!Matched::Core.SimpleVector) at essentials.jl:604\n  iterate(!Matched::Core.SimpleVector, !Matched::Any) at essentials.jl:604\n  iterate(!Matched::ExponentialBackOff) at error.jl:214\n  ...",
     "output_type": "error",
     "traceback": [
      "MethodError: no method matching iterate(::DataFrames.DataFrame)\nClosest candidates are:\n  iterate(!Matched::Core.SimpleVector) at essentials.jl:604\n  iterate(!Matched::Core.SimpleVector, !Matched::Any) at essentials.jl:604\n  iterate(!Matched::ExponentialBackOff) at error.jl:214\n  ...",
      "",
      "Stacktrace:",
      " [1] indexed_iterate(::DataFrames.DataFrame, ::Int64) at .\\tuple.jl:66",
      " [2] top-level scope at In[17]:1"
     ]
    }
   ],
   "source": [
    "X,y,groupAssignments = load_classification_data()"
   ]
  },
  {
   "cell_type": "code",
   "execution_count": null,
   "metadata": {},
   "outputs": [],
   "source": [
    "w, b = svm_classifier(X, y)\n",
    "w_fair, b_fair = fair_svm_classifier(X, y, group_assignments);"
   ]
  },
  {
   "cell_type": "code",
   "execution_count": null,
   "metadata": {},
   "outputs": [],
   "source": [
    "\n",
    "markers = [\"x\", \"o\", \"v\"]\n",
    "colors = [\"blue\", \"orange\", \"red\"]\n",
    "for k=1:p\n",
    "    mask_positive = (y .== 1) .& (group_assignments .== k)\n",
    "    mask_negative = (y .== -1) .& (group_assignments .== k)\n",
    "    plt.scatter(X[mask_positive, 1], X[mask_positive, 2], label=string(\"y=1,  \", \"k=\", k), marker=markers[k],\n",
    "        color=colors[1])\n",
    "    plt.scatter(X[mask_negative, 1], X[mask_negative, 2], label=string(\"y=-1, \", \"k=\", k), marker=markers[k],\n",
    "        color=colors[2])\n",
    "end\n",
    "\n",
    "X1_grid = minimum(X[:,1]):0.1:maximum(X[:,1])\n",
    "X2_grid = minimum(X[:,2]):0.1:maximum(X[:,2])\n",
    "plt.plot(X1_grid, (b .- w[1].*X1_grid)/w[2], color=\"k\", linestyle=\"--\", label=\"Generic SVM\")\n",
    "plt.plot(X1_grid, (b_fair .- w_fair[1].*X1_grid)/w_fair[2], color=\"g\", linestyle=\"--\", label=\"Fair SVM\")\n",
    "plt.legend();"
   ]
  }
 ],
 "metadata": {
  "kernelspec": {
   "display_name": "Julia 1.2.0",
   "language": "julia",
   "name": "julia-1.2"
  },
  "language_info": {
   "file_extension": ".jl",
   "mimetype": "application/julia",
   "name": "julia",
   "version": "1.2.0"
  }
 },
 "nbformat": 4,
 "nbformat_minor": 2
}
