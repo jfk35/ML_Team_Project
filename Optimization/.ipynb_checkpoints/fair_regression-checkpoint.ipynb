{
 "cells": [
  {
   "cell_type": "code",
   "execution_count": 2,
   "metadata": {},
   "outputs": [],
   "source": [
    "using JuMP, Gurobi, Random, PyPlot, Dates, LinearAlgebra"
   ]
  },
  {
   "cell_type": "code",
   "execution_count": 3,
   "metadata": {},
   "outputs": [
    {
     "name": "stdout",
     "output_type": "stream",
     "text": [
      "Academic license - for non-commercial use only\n"
     ]
    },
    {
     "data": {
      "text/plain": [
       "Gurobi.Env(Ptr{Nothing} @0x00007fbfee22a200)"
      ]
     },
     "execution_count": 3,
     "metadata": {},
     "output_type": "execute_result"
    }
   ],
   "source": [
    "GUROBI_ENV = Gurobi.Env()"
   ]
  },
  {
   "cell_type": "markdown",
   "metadata": {},
   "source": [
    "# MIO Implementation"
   ]
  },
  {
   "cell_type": "code",
   "execution_count": 4,
   "metadata": {},
   "outputs": [
    {
     "data": {
      "text/plain": [
       "get_group_indicator_matrix (generic function with 1 method)"
      ]
     },
     "execution_count": 4,
     "metadata": {},
     "output_type": "execute_result"
    }
   ],
   "source": [
    "function get_group_indicator_matrix(\n",
    "    group_assignments::Array{Int64, 1}\n",
    ")::Array{Int64, 2}\n",
    "    n = size(group_assignments, 1)\n",
    "    p = size(unique(group_assignments), 1)\n",
    "    A = zeros(n, p)\n",
    "    for i=1:n\n",
    "        for k=1:p\n",
    "            A[i,k] = Int(group_assignments[i] .== k)\n",
    "        end\n",
    "    end\n",
    "    return A\n",
    "end"
   ]
  },
  {
   "cell_type": "code",
   "execution_count": 5,
   "metadata": {},
   "outputs": [
    {
     "data": {
      "text/plain": [
       "lasso_regressor (generic function with 1 method)"
      ]
     },
     "execution_count": 5,
     "metadata": {},
     "output_type": "execute_result"
    }
   ],
   "source": [
    "function lasso_regressor(\n",
    "    X::Array{Float64, 2}, \n",
    "    y::Array{Float64, 1};\n",
    "    Γ::Float64=0.01,\n",
    "    return_objective_value::Bool = false,\n",
    "    solver_time_limit::Int64=60  \n",
    ")::Union{Array{Float64, 1}, Float64}\n",
    "    \n",
    "    # Initialize model\n",
    "    model = Model(solver=GurobiSolver(OutputFlag=0, TimeLimit=solver_time_limit, GUROBI_ENV))\n",
    "    \n",
    "    # Define variables\n",
    "    n, d = size(X)\n",
    "    @variable(model, β[1:d])\n",
    "    @variable(model, β_abs[1:d])\n",
    "    @variable(model, t)\n",
    "\n",
    "    # Set constraints\n",
    "    @constraint(model, β_abs .>= β)\n",
    "    @constraint(model, β_abs .>= -β)\n",
    "    @constraint(model, t .== (y - X*β)'*(y - X*β)/n + Γ*ones(d)'*β_abs)\n",
    "    \n",
    "    # Set objective         \n",
    "    @objective(model, Min, t);\n",
    "    \n",
    "    # Solve and return optimal objective value or regression coefficients\n",
    "    solve(model)\n",
    "    if return_objective_value\n",
    "        return getobjectivevalue(model)\n",
    "    else\n",
    "        return getvalue(β) \n",
    "    end\n",
    "end"
   ]
  },
  {
   "cell_type": "code",
   "execution_count": 17,
   "metadata": {},
   "outputs": [
    {
     "data": {
      "text/plain": [
       "fair_lasso_regressor (generic function with 1 method)"
      ]
     },
     "execution_count": 17,
     "metadata": {},
     "output_type": "execute_result"
    }
   ],
   "source": [
    "function fair_lasso_regressor(\n",
    "    X::Array{Float64, 2}, \n",
    "    y::Array{Float64, 1},\n",
    "    group_assignments::Array{Int64, 1};\n",
    "    Γ::Float64=0.01, # regularization penalty\n",
    "    δ::Float64=0.1, # max percent optimality decrease\n",
    "    λ::Float64=1.0, # mean overshoot weight,\n",
    "    μ::Float64=1.0, # meane value weight\n",
    "    return_objective_value::Bool = false,\n",
    "    solver_time_limit::Int64=60,\n",
    "    log::Bool = false\n",
    ")::Array{Float64, 1}\n",
    "    \n",
    "    start_time = now()\n",
    "    \n",
    "    # Process inputs\n",
    "    A = get_group_indicator_matrix(group_assignments) \n",
    "    p = size(A, 2) # number of groups\n",
    "    q = Int(p*(p - 1)/2) # number of pairs of groups\n",
    "    n, d = size(X) # number of data points and number of features\n",
    "    group_size = [sum(A[k,:]) for k=1:p]\n",
    "    min_loss = lasso_regressor(X, y; Γ=Γ, return_objective_value=true) # Min loss of problem w/o fairness constraints\n",
    "    \n",
    "    # Initialize model\n",
    "    model = Model(solver=GurobiSolver(OutputFlag=0, TimeLimit=solver_time_limit, GUROBI_ENV))\n",
    "\n",
    "    # Define variables\n",
    "    @variable(model, β[1:d])\n",
    "    @variable(model, β_abs[1:d])\n",
    "    @variable(model, undershoot[1:n] >= 0)\n",
    "    @variable(model, overshoot[1:n] >= 0)\n",
    "    @variable(model, MU[1:p] >= 0)\n",
    "    @variable(model, MO[1:p] >= 0)\n",
    "    @variable(model, MV[1:p])\n",
    "    @variable(model, Δ_MO[1:q] >= 0)\n",
    "    @variable(model, Δ_MU[1:q] >= 0)\n",
    "    @variable(model, Δ_MV[1:q] >= 0)\n",
    "    @variable(model, t >= 0)\n",
    "                                \n",
    "    # Set LASSO regression performance constraints\n",
    "    @constraint(model, β_abs .>= β)\n",
    "    @constraint(model, β_abs .>= -β)\n",
    "    @constraint(model, (y - X*β)'*(y - X*β)/n + Γ*ones(d)'*β_abs .<= (1 + δ)*min_loss)\n",
    "    \n",
    "    # Set constraints for overshoot and undershoot variables \n",
    "    @constraint(model, overshoot .>= X*β - y)\n",
    "    @constraint(model, undershoot .>= y - X*β)\n",
    "    \n",
    "    # Set constraints for mean overshoot, mean undershoot and mean value calculation   \n",
    "    @constraint(model, MU .== (A'*undershoot)./group_size)\n",
    "    @constraint(model, MO .== (A'*overshoot)./group_size)\n",
    "    @constraint(model, MV .== (A'*X*β)./group_size)\n",
    "    \n",
    "    # Set fairness constraints\n",
    "    @constraint(model, [k=1:p, l=k+1:p, m=Int(l-k+(p-k/2)*(k-1))], Δ_MU[m] >= MU[k] - MU[l])\n",
    "    @constraint(model, [k=1:p, l=k+1:p, m=Int(l-k+(p-k/2)*(k-1))], Δ_MU[m] >= MU[l] - MU[k])\n",
    "    @constraint(model, [k=1:p, l=k+1:p, m=Int(l-k+(p-k/2)*(k-1))], Δ_MO[m] >= MO[k] - MO[l])\n",
    "    @constraint(model, [k=1:p, l=k+1:p, m=Int(l-k+(p-k/2)*(k-1))], Δ_MO[m] >= MO[l] - MO[k])\n",
    "    @constraint(model, [k=1:p, l=k+1:p, m=Int(l-k+(p-k/2)*(k-1))], Δ_MV[m] >= MV[k] - MV[l])\n",
    "    @constraint(model, [k=1:p, l=k+1:p, m=Int(l-k+(p-k/2)*(k-1))], Δ_MV[m] >= MV[l] - MV[k])\n",
    "    @constraint(model, t .== ones(q)'*(Δ_MU .+ λ*Δ_MO .+ μ*Δ_MV))\n",
    "    \n",
    "    # Set objective\n",
    "    @objective(model, Min, t)\n",
    "    \n",
    "    # Solve model\n",
    "    solve(model)\n",
    "         \n",
    "    # Return optimal objective value or regression coefficients\n",
    "    if return_objective_value\n",
    "        return getobjectivevalue(model)\n",
    "    else\n",
    "        return getvalue(β) \n",
    "    end\n",
    "end"
   ]
  },
  {
   "cell_type": "markdown",
   "metadata": {},
   "source": [
    "# Fairness score calculation"
   ]
  },
  {
   "cell_type": "code",
   "execution_count": 30,
   "metadata": {},
   "outputs": [
    {
     "data": {
      "text/plain": [
       "regressor_fairness_summary (generic function with 1 method)"
      ]
     },
     "execution_count": 30,
     "metadata": {},
     "output_type": "execute_result"
    }
   ],
   "source": [
    "function calculate_mean_overshoot(\n",
    "    y::Array{Float64, 1},\n",
    "    y_hat::Array{Float64, 1}\n",
    ")::Float64\n",
    "    return sum(max.(y_hat .- y, 0)) / size(y, 1)\n",
    "end\n",
    "\n",
    "\n",
    "function calculate_mean_undershoot(\n",
    "    y::Array{Float64, 1},\n",
    "    y_hat::Array{Float64, 1}\n",
    ")::Float64\n",
    "    return sum(max.(y .- y_hat, 0)) / size(y, 1)\n",
    "end\n",
    "\n",
    "\n",
    "function calculate_mean_value(\n",
    "    y::Array{Float64, 1},\n",
    "    y_hat::Array{Float64, 1}\n",
    ")::Float64\n",
    "    return sum(y_hat) / size(y, 1)\n",
    "end\n",
    "\n",
    "\n",
    "function calculate_fairness_score_for_metric(\n",
    "    y::Array{Float64, 1},\n",
    "    y_hat::Array{Float64, 1},\n",
    "    group_assignments::Array{Int64, 1},\n",
    "    metric::Function\n",
    ")::Float64\n",
    "    group_metrics = [metric(y[group_assignments .== k], y_hat[group_assignments .== k]) for k=1:p]\n",
    "    return sum([sum([abs(group_metrics[k] - group_metrics[l]) for l=k+1:p]) for k=1:p]) / (p*(p - 1)/2)\n",
    "end\n",
    "\n",
    "\n",
    "function calculate_fairness_scores(\n",
    "    y::Array{Float64, 1}, \n",
    "    y_hat::Array{Float64, 1},\n",
    "    group_assignments::Array{Int64, 1}\n",
    ")::Tuple{Float64, Float64, Float64}\n",
    "    Δ_MU = calculate_fairness_score_for_metric(y, y_hat, group_assignments, calculate_mean_undershoot)\n",
    "    Δ_MO = calculate_fairness_score_for_metric(y, y_hat, group_assignments, calculate_mean_overshoot)\n",
    "    Δ_MV = calculate_fairness_score_for_metric(y, y_hat, group_assignments, calculate_mean_value)\n",
    "    return Δ_MU, Δ_MO, Δ_MV\n",
    "end\n",
    "\n",
    "\n",
    "function regressor_fairness_summary(\n",
    "    X::Array{Float64, 2},\n",
    "    y::Array{Float64, 1},\n",
    "    group_assignments::Array{Int64, 1},\n",
    "    β::Array{Float64, 1}, \n",
    ")\n",
    "    y_hat = X*β\n",
    "    Δ_MU, Δ_MO, Δ_MV = calculate_fairness_scores(y, y_hat, group_assignments)\n",
    "    println(\"Mean undershoot discrepency: \", round(Δ_MU; digits=3))\n",
    "    println(\"Mean overshoot discrepency: \", round(Δ_MO; digits=3))\n",
    "    println(\"Mean value discrepency: \", round(Δ_MV; digits=3))\n",
    "end"
   ]
  },
  {
   "cell_type": "markdown",
   "metadata": {},
   "source": [
    "# Random data generation"
   ]
  },
  {
   "cell_type": "code",
   "execution_count": 7,
   "metadata": {},
   "outputs": [
    {
     "data": {
      "text/plain": [
       "generate_random_regression_data (generic function with 1 method)"
      ]
     },
     "execution_count": 7,
     "metadata": {},
     "output_type": "execute_result"
    }
   ],
   "source": [
    "function generate_random_regression_data(\n",
    "    n::Int64, \n",
    "    d::Int64, \n",
    "    p::Int64; \n",
    "    σ=0.1, \n",
    "    seed=42\n",
    ")::Tuple{Array{\n",
    "    Float64, 2}, Array{Float64, 1}, Array{Int64, 1}}\n",
    "    rng = MersenneTwister(seed)\n",
    "    group_assignments = rand(rng, 1:p, n)\n",
    "    X = rand(rng, n, d) .* [group_assignments[i] for i=1:n,j=1:d]\n",
    "    β_true = randn(rng, d) .* rand(rng, [0, 1], d)\n",
    "    y = X*β_true + σ*randn(rng, n)\n",
    "    return X, y, group_assignments\n",
    "end"
   ]
  },
  {
   "cell_type": "markdown",
   "metadata": {},
   "source": [
    "# Toy example"
   ]
  },
  {
   "cell_type": "code",
   "execution_count": 26,
   "metadata": {},
   "outputs": [
    {
     "data": {
      "image/png": "[encoded data removed]",
      "text/plain": [
       "Figure(PyObject <Figure size 640x480 with 1 Axes>)"
      ]
     },
     "metadata": {},
     "output_type": "display_data"
    }
   ],
   "source": [
    "# Example of random data \n",
    "n = 100\n",
    "d = 1\n",
    "p = 2\n",
    "X, y, group_assignments = generate_random_regression_data(100, 1, 2)\n",
    "β = lasso_regressor(X, y)\n",
    "β_fair = fair_lasso_regressor(X, y, group_assignments)\n",
    "for k=1:p\n",
    "    plt.scatter(x[group_assignments .== k], y[group_assignments .== k], label=k)\n",
    "end\n",
    "X_grid = minimum(X):0.1:maximum(X)\n",
    "plt.plot(x_grid, β_lasso.*X_grid, color=\"k\", linestyle=\"--\", label=\"Lasso\")\n",
    "plt.plot(x_grid, β_fair.*X_grid, color=\"g\", linestyle=\"--\", label=\"Fair\")\n",
    "plt.xlabel(\"x\")\n",
    "plt.ylabel(\"y\")\n",
    "plt.legend();"
   ]
  },
  {
   "cell_type": "code",
   "execution_count": 31,
   "metadata": {},
   "outputs": [
    {
     "name": "stdout",
     "output_type": "stream",
     "text": [
      "Mean undershoot discrepency: 0.012\n",
      "Mean overshoot discrepency: 0.015\n",
      "Mean value discrepency: 0.083\n"
     ]
    }
   ],
   "source": [
    "regressor_fairness_summary(x, y, group_assignments, β)"
   ]
  },
  {
   "cell_type": "code",
   "execution_count": 32,
   "metadata": {},
   "outputs": [
    {
     "name": "stdout",
     "output_type": "stream",
     "text": [
      "Mean undershoot discrepency: 0.019\n",
      "Mean overshoot discrepency: 0.003\n",
      "Mean value discrepency: 0.063\n"
     ]
    }
   ],
   "source": [
    "regressor_fairness_summary(x, y, group_assignments, β_fair)"
   ]
  }
 ],
 "metadata": {
  "kernelspec": {
   "display_name": "Julia 1.2.0",
   "language": "julia",
   "name": "julia-1.2"
  },
  "language_info": {
   "file_extension": ".jl",
   "mimetype": "application/julia",
   "name": "julia",
   "version": "1.2.0"
  }
 },
 "nbformat": 4,
 "nbformat_minor": 2
}
